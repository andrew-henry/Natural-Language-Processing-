{
 "cells": [
  {
   "cell_type": "markdown",
   "metadata": {},
   "source": [
    "## Natural Language Processing "
   ]
  },
  {
   "cell_type": "markdown",
   "metadata": {},
   "source": [
    "### Tokenization"
   ]
  },
  {
   "cell_type": "code",
   "execution_count": 1,
   "metadata": {},
   "outputs": [],
   "source": [
    "import nltk\n",
    "import string \n",
    "import re\n",
    "import nltk\n",
    "from nltk.corpus import stopwords\n",
    "from nltk.tokenize import sent_tokenize, word_tokenize, MWETokenizer\n",
    "from nltk.tokenize.util import string_span_tokenize, spans_to_relative\n",
    "from nltk.tokenize import RegexpTokenizer, regexp_tokenize, LineTokenizer, SpaceTokenizer\n",
    "from nltk.tokenize import TreebankWordTokenizer, BlanklineTokenizer, WhitespaceTokenizer"
   ]
  },
  {
   "cell_type": "code",
   "execution_count": 2,
   "metadata": {},
   "outputs": [
    {
     "name": "stdout",
     "output_type": "stream",
     "text": [
      "[nltk_data] Downloading package punkt to\n",
      "[nltk_data]     C:\\Users\\Andrew\\AppData\\Roaming\\nltk_data...\n",
      "[nltk_data]   Package punkt is already up-to-date!\n"
     ]
    },
    {
     "data": {
      "text/plain": [
       "True"
      ]
     },
     "execution_count": 2,
     "metadata": {},
     "output_type": "execute_result"
    }
   ],
   "source": [
    "nltk.download('punkt')"
   ]
  },
  {
   "cell_type": "code",
   "execution_count": 3,
   "metadata": {},
   "outputs": [
    {
     "name": "stdout",
     "output_type": "stream",
     "text": [
      "[nltk_data] Downloading package stopwords to\n",
      "[nltk_data]     C:\\Users\\Andrew\\AppData\\Roaming\\nltk_data...\n",
      "[nltk_data]   Package stopwords is already up-to-date!\n"
     ]
    },
    {
     "data": {
      "text/plain": [
       "True"
      ]
     },
     "execution_count": 3,
     "metadata": {},
     "output_type": "execute_result"
    }
   ],
   "source": [
    "nltk.download('stopwords')"
   ]
  },
  {
   "cell_type": "code",
   "execution_count": 4,
   "metadata": {},
   "outputs": [
    {
     "name": "stdout",
     "output_type": "stream",
     "text": [
      "Natural language processing\n",
      "The length of the text is 3 words\n"
     ]
    }
   ],
   "source": [
    "word_counter = input(\"\")\n",
    "print('The length of the text is', len(word_tokenize(word_counter)), 'words')"
   ]
  },
  {
   "cell_type": "code",
   "execution_count": 5,
   "metadata": {},
   "outputs": [],
   "source": [
    "english_tokenizer = nltk.data.load('tokenizers/punkt/english.pickle')"
   ]
  },
  {
   "cell_type": "code",
   "execution_count": 6,
   "metadata": {},
   "outputs": [],
   "source": [
    "sentence_1 = \"Good morning everyone. I hope that you are all are doing well. Have a wonderful day!\""
   ]
  },
  {
   "cell_type": "code",
   "execution_count": 7,
   "metadata": {},
   "outputs": [
    {
     "data": {
      "text/plain": [
       "['Good morning everyone.',\n",
       " 'I hope that you are all are doing well.',\n",
       " 'Have a wonderful day!']"
      ]
     },
     "execution_count": 7,
     "metadata": {},
     "output_type": "execute_result"
    }
   ],
   "source": [
    "sent_tokenize(sentence_1)"
   ]
  },
  {
   "cell_type": "code",
   "execution_count": 8,
   "metadata": {},
   "outputs": [],
   "source": [
    "french_tokenizer = nltk.data.load('tokenizers/punkt/french.pickle')"
   ]
  },
  {
   "cell_type": "code",
   "execution_count": 9,
   "metadata": {},
   "outputs": [],
   "source": [
    "French_sentence_1 = \"Bonjour tout le monde. J'espère que tout le monde va bien. Bonne journée\""
   ]
  },
  {
   "cell_type": "code",
   "execution_count": 10,
   "metadata": {},
   "outputs": [
    {
     "data": {
      "text/plain": [
       "['Bonjour tout le monde.',\n",
       " \"J'espère que tout le monde va bien.\",\n",
       " 'Bonne journée']"
      ]
     },
     "execution_count": 10,
     "metadata": {},
     "output_type": "execute_result"
    }
   ],
   "source": [
    "sent_tokenize(French_sentence_1)"
   ]
  },
  {
   "cell_type": "code",
   "execution_count": 11,
   "metadata": {},
   "outputs": [],
   "source": [
    "spanish_tokenizer = nltk.data.load('tokenizers/punkt/spanish.pickle')"
   ]
  },
  {
   "cell_type": "code",
   "execution_count": 12,
   "metadata": {},
   "outputs": [],
   "source": [
    "Spanish_sentence_1 = \"Hola a todos. Espero que todos lo estén haciendo bien. Tenga un buen día\""
   ]
  },
  {
   "cell_type": "code",
   "execution_count": 13,
   "metadata": {},
   "outputs": [
    {
     "data": {
      "text/plain": [
       "['Hola a todos.',\n",
       " 'Espero que todos lo estén haciendo bien.',\n",
       " 'Tenga un buen día']"
      ]
     },
     "execution_count": 13,
     "metadata": {},
     "output_type": "execute_result"
    }
   ],
   "source": [
    "sent_tokenize(Spanish_sentence_1)"
   ]
  },
  {
   "cell_type": "markdown",
   "metadata": {},
   "source": [
    "### Treebank Word Tokenizer\n",
    "\n",
    "* treebank works by performing tokenization based on punctuation and spaces"
   ]
  },
  {
   "cell_type": "code",
   "execution_count": 14,
   "metadata": {},
   "outputs": [],
   "source": [
    "tree_tokenizer = TreebankWordTokenizer()"
   ]
  },
  {
   "cell_type": "code",
   "execution_count": 15,
   "metadata": {},
   "outputs": [
    {
     "data": {
      "text/plain": [
       "['It',\n",
       " 'is',\n",
       " 'going',\n",
       " 'to',\n",
       " 'rain',\n",
       " 'today.',\n",
       " 'You',\n",
       " 'should',\n",
       " 'bring',\n",
       " 'an',\n",
       " 'umbrella',\n",
       " 'with',\n",
       " 'you']"
      ]
     },
     "execution_count": 15,
     "metadata": {},
     "output_type": "execute_result"
    }
   ],
   "source": [
    "tree_tokenizer.tokenize('It is going to rain today. You should bring an umbrella with you')"
   ]
  },
  {
   "cell_type": "markdown",
   "metadata": {},
   "source": [
    "## Normilization\n",
    "\n",
    "#### Necessary for processing in natural language text for the purpose of\n",
    "\n",
    "* Expanding abbreviations\n",
    "* Eliminating punctuations\n",
    "* Converting text into uppercase or lowercase forms\n",
    "* Canonicalization of text\n",
    "* Converting numbers into words\n",
    "* etc"
   ]
  },
  {
   "cell_type": "code",
   "execution_count": 16,
   "metadata": {},
   "outputs": [],
   "source": [
    "text_to_modify = 'StoP DoinG WHat YOu aRe DOiNg'"
   ]
  },
  {
   "cell_type": "code",
   "execution_count": 17,
   "metadata": {},
   "outputs": [
    {
     "name": "stdout",
     "output_type": "stream",
     "text": [
      "stop doing what you are doing\n",
      "STOP DOING WHAT YOU ARE DOING\n"
     ]
    }
   ],
   "source": [
    "print(text_to_modify.lower())\n",
    "print(text_to_modify.upper())"
   ]
  },
  {
   "cell_type": "code",
   "execution_count": 18,
   "metadata": {},
   "outputs": [],
   "source": [
    "new_text = [\"Oh what a beautiful morning.\", \" Oh what a beautiful day.\", \"The sun is shining and the birds are chirping\"]"
   ]
  },
  {
   "cell_type": "code",
   "execution_count": 19,
   "metadata": {},
   "outputs": [],
   "source": [
    "tokenized_text = [word_tokenize(text) for text in new_text]"
   ]
  },
  {
   "cell_type": "code",
   "execution_count": 20,
   "metadata": {},
   "outputs": [
    {
     "name": "stdout",
     "output_type": "stream",
     "text": [
      "[['Oh', 'what', 'a', 'beautiful', 'morning', '.'], ['Oh', 'what', 'a', 'beautiful', 'day', '.'], ['The', 'sun', 'is', 'shining', 'and', 'the', 'birds', 'are', 'chirping']]\n"
     ]
    }
   ],
   "source": [
    "print(tokenized_text)"
   ]
  },
  {
   "cell_type": "code",
   "execution_count": 21,
   "metadata": {},
   "outputs": [
    {
     "name": "stdout",
     "output_type": "stream",
     "text": [
      "[['Oh']]\n",
      "[['Oh', 'what'], ['Oh', 'what']]\n",
      "[['Oh', 'what', 'a'], ['Oh', 'what', 'a'], ['Oh', 'what', 'a']]\n",
      "[['Oh', 'what', 'a', 'beautiful'], ['Oh', 'what', 'a', 'beautiful'], ['Oh', 'what', 'a', 'beautiful'], ['Oh', 'what', 'a', 'beautiful']]\n",
      "[['Oh', 'what', 'a', 'beautiful', 'morning'], ['Oh', 'what', 'a', 'beautiful', 'morning'], ['Oh', 'what', 'a', 'beautiful', 'morning'], ['Oh', 'what', 'a', 'beautiful', 'morning'], ['Oh', 'what', 'a', 'beautiful', 'morning']]\n",
      "[['Oh', 'what', 'a', 'beautiful', 'morning'], ['Oh', 'what', 'a', 'beautiful', 'morning'], ['Oh', 'what', 'a', 'beautiful', 'morning'], ['Oh', 'what', 'a', 'beautiful', 'morning'], ['Oh', 'what', 'a', 'beautiful', 'morning'], ['Oh']]\n",
      "[['Oh', 'what', 'a', 'beautiful', 'morning'], ['Oh', 'what', 'a', 'beautiful', 'morning'], ['Oh', 'what', 'a', 'beautiful', 'morning'], ['Oh', 'what', 'a', 'beautiful', 'morning'], ['Oh', 'what', 'a', 'beautiful', 'morning'], ['Oh', 'what'], ['Oh', 'what']]\n",
      "[['Oh', 'what', 'a', 'beautiful', 'morning'], ['Oh', 'what', 'a', 'beautiful', 'morning'], ['Oh', 'what', 'a', 'beautiful', 'morning'], ['Oh', 'what', 'a', 'beautiful', 'morning'], ['Oh', 'what', 'a', 'beautiful', 'morning'], ['Oh', 'what', 'a'], ['Oh', 'what', 'a'], ['Oh', 'what', 'a']]\n",
      "[['Oh', 'what', 'a', 'beautiful', 'morning'], ['Oh', 'what', 'a', 'beautiful', 'morning'], ['Oh', 'what', 'a', 'beautiful', 'morning'], ['Oh', 'what', 'a', 'beautiful', 'morning'], ['Oh', 'what', 'a', 'beautiful', 'morning'], ['Oh', 'what', 'a', 'beautiful'], ['Oh', 'what', 'a', 'beautiful'], ['Oh', 'what', 'a', 'beautiful'], ['Oh', 'what', 'a', 'beautiful']]\n",
      "[['Oh', 'what', 'a', 'beautiful', 'morning'], ['Oh', 'what', 'a', 'beautiful', 'morning'], ['Oh', 'what', 'a', 'beautiful', 'morning'], ['Oh', 'what', 'a', 'beautiful', 'morning'], ['Oh', 'what', 'a', 'beautiful', 'morning'], ['Oh', 'what', 'a', 'beautiful', 'day'], ['Oh', 'what', 'a', 'beautiful', 'day'], ['Oh', 'what', 'a', 'beautiful', 'day'], ['Oh', 'what', 'a', 'beautiful', 'day'], ['Oh', 'what', 'a', 'beautiful', 'day']]\n",
      "[['Oh', 'what', 'a', 'beautiful', 'morning'], ['Oh', 'what', 'a', 'beautiful', 'morning'], ['Oh', 'what', 'a', 'beautiful', 'morning'], ['Oh', 'what', 'a', 'beautiful', 'morning'], ['Oh', 'what', 'a', 'beautiful', 'morning'], ['Oh', 'what', 'a', 'beautiful', 'day'], ['Oh', 'what', 'a', 'beautiful', 'day'], ['Oh', 'what', 'a', 'beautiful', 'day'], ['Oh', 'what', 'a', 'beautiful', 'day'], ['Oh', 'what', 'a', 'beautiful', 'day'], ['The']]\n",
      "[['Oh', 'what', 'a', 'beautiful', 'morning'], ['Oh', 'what', 'a', 'beautiful', 'morning'], ['Oh', 'what', 'a', 'beautiful', 'morning'], ['Oh', 'what', 'a', 'beautiful', 'morning'], ['Oh', 'what', 'a', 'beautiful', 'morning'], ['Oh', 'what', 'a', 'beautiful', 'day'], ['Oh', 'what', 'a', 'beautiful', 'day'], ['Oh', 'what', 'a', 'beautiful', 'day'], ['Oh', 'what', 'a', 'beautiful', 'day'], ['Oh', 'what', 'a', 'beautiful', 'day'], ['The', 'sun'], ['The', 'sun']]\n",
      "[['Oh', 'what', 'a', 'beautiful', 'morning'], ['Oh', 'what', 'a', 'beautiful', 'morning'], ['Oh', 'what', 'a', 'beautiful', 'morning'], ['Oh', 'what', 'a', 'beautiful', 'morning'], ['Oh', 'what', 'a', 'beautiful', 'morning'], ['Oh', 'what', 'a', 'beautiful', 'day'], ['Oh', 'what', 'a', 'beautiful', 'day'], ['Oh', 'what', 'a', 'beautiful', 'day'], ['Oh', 'what', 'a', 'beautiful', 'day'], ['Oh', 'what', 'a', 'beautiful', 'day'], ['The', 'sun', 'is'], ['The', 'sun', 'is'], ['The', 'sun', 'is']]\n",
      "[['Oh', 'what', 'a', 'beautiful', 'morning'], ['Oh', 'what', 'a', 'beautiful', 'morning'], ['Oh', 'what', 'a', 'beautiful', 'morning'], ['Oh', 'what', 'a', 'beautiful', 'morning'], ['Oh', 'what', 'a', 'beautiful', 'morning'], ['Oh', 'what', 'a', 'beautiful', 'day'], ['Oh', 'what', 'a', 'beautiful', 'day'], ['Oh', 'what', 'a', 'beautiful', 'day'], ['Oh', 'what', 'a', 'beautiful', 'day'], ['Oh', 'what', 'a', 'beautiful', 'day'], ['The', 'sun', 'is', 'shining'], ['The', 'sun', 'is', 'shining'], ['The', 'sun', 'is', 'shining'], ['The', 'sun', 'is', 'shining']]\n",
      "[['Oh', 'what', 'a', 'beautiful', 'morning'], ['Oh', 'what', 'a', 'beautiful', 'morning'], ['Oh', 'what', 'a', 'beautiful', 'morning'], ['Oh', 'what', 'a', 'beautiful', 'morning'], ['Oh', 'what', 'a', 'beautiful', 'morning'], ['Oh', 'what', 'a', 'beautiful', 'day'], ['Oh', 'what', 'a', 'beautiful', 'day'], ['Oh', 'what', 'a', 'beautiful', 'day'], ['Oh', 'what', 'a', 'beautiful', 'day'], ['Oh', 'what', 'a', 'beautiful', 'day'], ['The', 'sun', 'is', 'shining', 'and'], ['The', 'sun', 'is', 'shining', 'and'], ['The', 'sun', 'is', 'shining', 'and'], ['The', 'sun', 'is', 'shining', 'and'], ['The', 'sun', 'is', 'shining', 'and']]\n",
      "[['Oh', 'what', 'a', 'beautiful', 'morning'], ['Oh', 'what', 'a', 'beautiful', 'morning'], ['Oh', 'what', 'a', 'beautiful', 'morning'], ['Oh', 'what', 'a', 'beautiful', 'morning'], ['Oh', 'what', 'a', 'beautiful', 'morning'], ['Oh', 'what', 'a', 'beautiful', 'day'], ['Oh', 'what', 'a', 'beautiful', 'day'], ['Oh', 'what', 'a', 'beautiful', 'day'], ['Oh', 'what', 'a', 'beautiful', 'day'], ['Oh', 'what', 'a', 'beautiful', 'day'], ['The', 'sun', 'is', 'shining', 'and', 'the'], ['The', 'sun', 'is', 'shining', 'and', 'the'], ['The', 'sun', 'is', 'shining', 'and', 'the'], ['The', 'sun', 'is', 'shining', 'and', 'the'], ['The', 'sun', 'is', 'shining', 'and', 'the'], ['The', 'sun', 'is', 'shining', 'and', 'the']]\n",
      "[['Oh', 'what', 'a', 'beautiful', 'morning'], ['Oh', 'what', 'a', 'beautiful', 'morning'], ['Oh', 'what', 'a', 'beautiful', 'morning'], ['Oh', 'what', 'a', 'beautiful', 'morning'], ['Oh', 'what', 'a', 'beautiful', 'morning'], ['Oh', 'what', 'a', 'beautiful', 'day'], ['Oh', 'what', 'a', 'beautiful', 'day'], ['Oh', 'what', 'a', 'beautiful', 'day'], ['Oh', 'what', 'a', 'beautiful', 'day'], ['Oh', 'what', 'a', 'beautiful', 'day'], ['The', 'sun', 'is', 'shining', 'and', 'the', 'birds'], ['The', 'sun', 'is', 'shining', 'and', 'the', 'birds'], ['The', 'sun', 'is', 'shining', 'and', 'the', 'birds'], ['The', 'sun', 'is', 'shining', 'and', 'the', 'birds'], ['The', 'sun', 'is', 'shining', 'and', 'the', 'birds'], ['The', 'sun', 'is', 'shining', 'and', 'the', 'birds'], ['The', 'sun', 'is', 'shining', 'and', 'the', 'birds']]\n",
      "[['Oh', 'what', 'a', 'beautiful', 'morning'], ['Oh', 'what', 'a', 'beautiful', 'morning'], ['Oh', 'what', 'a', 'beautiful', 'morning'], ['Oh', 'what', 'a', 'beautiful', 'morning'], ['Oh', 'what', 'a', 'beautiful', 'morning'], ['Oh', 'what', 'a', 'beautiful', 'day'], ['Oh', 'what', 'a', 'beautiful', 'day'], ['Oh', 'what', 'a', 'beautiful', 'day'], ['Oh', 'what', 'a', 'beautiful', 'day'], ['Oh', 'what', 'a', 'beautiful', 'day'], ['The', 'sun', 'is', 'shining', 'and', 'the', 'birds', 'are'], ['The', 'sun', 'is', 'shining', 'and', 'the', 'birds', 'are'], ['The', 'sun', 'is', 'shining', 'and', 'the', 'birds', 'are'], ['The', 'sun', 'is', 'shining', 'and', 'the', 'birds', 'are'], ['The', 'sun', 'is', 'shining', 'and', 'the', 'birds', 'are'], ['The', 'sun', 'is', 'shining', 'and', 'the', 'birds', 'are'], ['The', 'sun', 'is', 'shining', 'and', 'the', 'birds', 'are'], ['The', 'sun', 'is', 'shining', 'and', 'the', 'birds', 'are']]\n",
      "[['Oh', 'what', 'a', 'beautiful', 'morning'], ['Oh', 'what', 'a', 'beautiful', 'morning'], ['Oh', 'what', 'a', 'beautiful', 'morning'], ['Oh', 'what', 'a', 'beautiful', 'morning'], ['Oh', 'what', 'a', 'beautiful', 'morning'], ['Oh', 'what', 'a', 'beautiful', 'day'], ['Oh', 'what', 'a', 'beautiful', 'day'], ['Oh', 'what', 'a', 'beautiful', 'day'], ['Oh', 'what', 'a', 'beautiful', 'day'], ['Oh', 'what', 'a', 'beautiful', 'day'], ['The', 'sun', 'is', 'shining', 'and', 'the', 'birds', 'are', 'chirping'], ['The', 'sun', 'is', 'shining', 'and', 'the', 'birds', 'are', 'chirping'], ['The', 'sun', 'is', 'shining', 'and', 'the', 'birds', 'are', 'chirping'], ['The', 'sun', 'is', 'shining', 'and', 'the', 'birds', 'are', 'chirping'], ['The', 'sun', 'is', 'shining', 'and', 'the', 'birds', 'are', 'chirping'], ['The', 'sun', 'is', 'shining', 'and', 'the', 'birds', 'are', 'chirping'], ['The', 'sun', 'is', 'shining', 'and', 'the', 'birds', 'are', 'chirping'], ['The', 'sun', 'is', 'shining', 'and', 'the', 'birds', 'are', 'chirping'], ['The', 'sun', 'is', 'shining', 'and', 'the', 'birds', 'are', 'chirping']]\n"
     ]
    }
   ],
   "source": [
    "A = re.compile('[%s]' % re.escape(string.punctuation))\n",
    "tokenized_text_no_punctuation = []\n",
    "\n",
    "for inspection in tokenized_text:\n",
    "    new_inspection = []\n",
    "    for token in inspection:\n",
    "        new_token = A.sub(u'', token)\n",
    "        if not new_token == u'':\n",
    "            new_inspection.append(new_token)\n",
    "            tokenized_text_no_punctuation.append(new_inspection)\n",
    "            print(tokenized_text_no_punctuation)\n",
    "    "
   ]
  },
  {
   "cell_type": "markdown",
   "metadata": {},
   "source": [
    "### Stop Words\n",
    "\n",
    "* Words that need to be filtered out because they do not contribute significant value overall during information retrieval or other natural language processing tasks"
   ]
  },
  {
   "cell_type": "code",
   "execution_count": 22,
   "metadata": {},
   "outputs": [
    {
     "data": {
      "text/plain": [
       "['arabic',\n",
       " 'azerbaijani',\n",
       " 'danish',\n",
       " 'dutch',\n",
       " 'english',\n",
       " 'finnish',\n",
       " 'french',\n",
       " 'german',\n",
       " 'greek',\n",
       " 'hungarian',\n",
       " 'indonesian',\n",
       " 'italian',\n",
       " 'kazakh',\n",
       " 'nepali',\n",
       " 'norwegian',\n",
       " 'portuguese',\n",
       " 'romanian',\n",
       " 'russian',\n",
       " 'spanish',\n",
       " 'swedish',\n",
       " 'turkish']"
      ]
     },
     "execution_count": 22,
     "metadata": {},
     "output_type": "execute_result"
    }
   ],
   "source": [
    "# List of stopword supported languages\n",
    "\n",
    "stopwords.fileids()"
   ]
  },
  {
   "cell_type": "code",
   "execution_count": 23,
   "metadata": {},
   "outputs": [],
   "source": [
    "stop_words = set(stopwords.words('english'))"
   ]
  },
  {
   "cell_type": "code",
   "execution_count": 24,
   "metadata": {},
   "outputs": [
    {
     "data": {
      "text/plain": [
       "{'a',\n",
       " 'about',\n",
       " 'above',\n",
       " 'after',\n",
       " 'again',\n",
       " 'against',\n",
       " 'ain',\n",
       " 'all',\n",
       " 'am',\n",
       " 'an',\n",
       " 'and',\n",
       " 'any',\n",
       " 'are',\n",
       " 'aren',\n",
       " \"aren't\",\n",
       " 'as',\n",
       " 'at',\n",
       " 'be',\n",
       " 'because',\n",
       " 'been',\n",
       " 'before',\n",
       " 'being',\n",
       " 'below',\n",
       " 'between',\n",
       " 'both',\n",
       " 'but',\n",
       " 'by',\n",
       " 'can',\n",
       " 'couldn',\n",
       " \"couldn't\",\n",
       " 'd',\n",
       " 'did',\n",
       " 'didn',\n",
       " \"didn't\",\n",
       " 'do',\n",
       " 'does',\n",
       " 'doesn',\n",
       " \"doesn't\",\n",
       " 'doing',\n",
       " 'don',\n",
       " \"don't\",\n",
       " 'down',\n",
       " 'during',\n",
       " 'each',\n",
       " 'few',\n",
       " 'for',\n",
       " 'from',\n",
       " 'further',\n",
       " 'had',\n",
       " 'hadn',\n",
       " \"hadn't\",\n",
       " 'has',\n",
       " 'hasn',\n",
       " \"hasn't\",\n",
       " 'have',\n",
       " 'haven',\n",
       " \"haven't\",\n",
       " 'having',\n",
       " 'he',\n",
       " 'her',\n",
       " 'here',\n",
       " 'hers',\n",
       " 'herself',\n",
       " 'him',\n",
       " 'himself',\n",
       " 'his',\n",
       " 'how',\n",
       " 'i',\n",
       " 'if',\n",
       " 'in',\n",
       " 'into',\n",
       " 'is',\n",
       " 'isn',\n",
       " \"isn't\",\n",
       " 'it',\n",
       " \"it's\",\n",
       " 'its',\n",
       " 'itself',\n",
       " 'just',\n",
       " 'll',\n",
       " 'm',\n",
       " 'ma',\n",
       " 'me',\n",
       " 'mightn',\n",
       " \"mightn't\",\n",
       " 'more',\n",
       " 'most',\n",
       " 'mustn',\n",
       " \"mustn't\",\n",
       " 'my',\n",
       " 'myself',\n",
       " 'needn',\n",
       " \"needn't\",\n",
       " 'no',\n",
       " 'nor',\n",
       " 'not',\n",
       " 'now',\n",
       " 'o',\n",
       " 'of',\n",
       " 'off',\n",
       " 'on',\n",
       " 'once',\n",
       " 'only',\n",
       " 'or',\n",
       " 'other',\n",
       " 'our',\n",
       " 'ours',\n",
       " 'ourselves',\n",
       " 'out',\n",
       " 'over',\n",
       " 'own',\n",
       " 're',\n",
       " 's',\n",
       " 'same',\n",
       " 'shan',\n",
       " \"shan't\",\n",
       " 'she',\n",
       " \"she's\",\n",
       " 'should',\n",
       " \"should've\",\n",
       " 'shouldn',\n",
       " \"shouldn't\",\n",
       " 'so',\n",
       " 'some',\n",
       " 'such',\n",
       " 't',\n",
       " 'than',\n",
       " 'that',\n",
       " \"that'll\",\n",
       " 'the',\n",
       " 'their',\n",
       " 'theirs',\n",
       " 'them',\n",
       " 'themselves',\n",
       " 'then',\n",
       " 'there',\n",
       " 'these',\n",
       " 'they',\n",
       " 'this',\n",
       " 'those',\n",
       " 'through',\n",
       " 'to',\n",
       " 'too',\n",
       " 'under',\n",
       " 'until',\n",
       " 'up',\n",
       " 've',\n",
       " 'very',\n",
       " 'was',\n",
       " 'wasn',\n",
       " \"wasn't\",\n",
       " 'we',\n",
       " 'were',\n",
       " 'weren',\n",
       " \"weren't\",\n",
       " 'what',\n",
       " 'when',\n",
       " 'where',\n",
       " 'which',\n",
       " 'while',\n",
       " 'who',\n",
       " 'whom',\n",
       " 'why',\n",
       " 'will',\n",
       " 'with',\n",
       " 'won',\n",
       " \"won't\",\n",
       " 'wouldn',\n",
       " \"wouldn't\",\n",
       " 'y',\n",
       " 'you',\n",
       " \"you'd\",\n",
       " \"you'll\",\n",
       " \"you're\",\n",
       " \"you've\",\n",
       " 'your',\n",
       " 'yours',\n",
       " 'yourself',\n",
       " 'yourselves'}"
      ]
     },
     "execution_count": 24,
     "metadata": {},
     "output_type": "execute_result"
    }
   ],
   "source": [
    "# List of English stop words\n",
    "stop_words"
   ]
  },
  {
   "cell_type": "code",
   "execution_count": 25,
   "metadata": {},
   "outputs": [],
   "source": [
    "spanish_stop_words = set(stopwords.words('spanish'))"
   ]
  },
  {
   "cell_type": "code",
   "execution_count": 26,
   "metadata": {},
   "outputs": [
    {
     "data": {
      "text/plain": [
       "{'a',\n",
       " 'al',\n",
       " 'algo',\n",
       " 'algunas',\n",
       " 'algunos',\n",
       " 'ante',\n",
       " 'antes',\n",
       " 'como',\n",
       " 'con',\n",
       " 'contra',\n",
       " 'cual',\n",
       " 'cuando',\n",
       " 'de',\n",
       " 'del',\n",
       " 'desde',\n",
       " 'donde',\n",
       " 'durante',\n",
       " 'e',\n",
       " 'el',\n",
       " 'ella',\n",
       " 'ellas',\n",
       " 'ellos',\n",
       " 'en',\n",
       " 'entre',\n",
       " 'era',\n",
       " 'erais',\n",
       " 'eran',\n",
       " 'eras',\n",
       " 'eres',\n",
       " 'es',\n",
       " 'esa',\n",
       " 'esas',\n",
       " 'ese',\n",
       " 'eso',\n",
       " 'esos',\n",
       " 'esta',\n",
       " 'estaba',\n",
       " 'estabais',\n",
       " 'estaban',\n",
       " 'estabas',\n",
       " 'estad',\n",
       " 'estada',\n",
       " 'estadas',\n",
       " 'estado',\n",
       " 'estados',\n",
       " 'estamos',\n",
       " 'estando',\n",
       " 'estar',\n",
       " 'estaremos',\n",
       " 'estará',\n",
       " 'estarán',\n",
       " 'estarás',\n",
       " 'estaré',\n",
       " 'estaréis',\n",
       " 'estaría',\n",
       " 'estaríais',\n",
       " 'estaríamos',\n",
       " 'estarían',\n",
       " 'estarías',\n",
       " 'estas',\n",
       " 'este',\n",
       " 'estemos',\n",
       " 'esto',\n",
       " 'estos',\n",
       " 'estoy',\n",
       " 'estuve',\n",
       " 'estuviera',\n",
       " 'estuvierais',\n",
       " 'estuvieran',\n",
       " 'estuvieras',\n",
       " 'estuvieron',\n",
       " 'estuviese',\n",
       " 'estuvieseis',\n",
       " 'estuviesen',\n",
       " 'estuvieses',\n",
       " 'estuvimos',\n",
       " 'estuviste',\n",
       " 'estuvisteis',\n",
       " 'estuviéramos',\n",
       " 'estuviésemos',\n",
       " 'estuvo',\n",
       " 'está',\n",
       " 'estábamos',\n",
       " 'estáis',\n",
       " 'están',\n",
       " 'estás',\n",
       " 'esté',\n",
       " 'estéis',\n",
       " 'estén',\n",
       " 'estés',\n",
       " 'fue',\n",
       " 'fuera',\n",
       " 'fuerais',\n",
       " 'fueran',\n",
       " 'fueras',\n",
       " 'fueron',\n",
       " 'fuese',\n",
       " 'fueseis',\n",
       " 'fuesen',\n",
       " 'fueses',\n",
       " 'fui',\n",
       " 'fuimos',\n",
       " 'fuiste',\n",
       " 'fuisteis',\n",
       " 'fuéramos',\n",
       " 'fuésemos',\n",
       " 'ha',\n",
       " 'habida',\n",
       " 'habidas',\n",
       " 'habido',\n",
       " 'habidos',\n",
       " 'habiendo',\n",
       " 'habremos',\n",
       " 'habrá',\n",
       " 'habrán',\n",
       " 'habrás',\n",
       " 'habré',\n",
       " 'habréis',\n",
       " 'habría',\n",
       " 'habríais',\n",
       " 'habríamos',\n",
       " 'habrían',\n",
       " 'habrías',\n",
       " 'habéis',\n",
       " 'había',\n",
       " 'habíais',\n",
       " 'habíamos',\n",
       " 'habían',\n",
       " 'habías',\n",
       " 'han',\n",
       " 'has',\n",
       " 'hasta',\n",
       " 'hay',\n",
       " 'haya',\n",
       " 'hayamos',\n",
       " 'hayan',\n",
       " 'hayas',\n",
       " 'hayáis',\n",
       " 'he',\n",
       " 'hemos',\n",
       " 'hube',\n",
       " 'hubiera',\n",
       " 'hubierais',\n",
       " 'hubieran',\n",
       " 'hubieras',\n",
       " 'hubieron',\n",
       " 'hubiese',\n",
       " 'hubieseis',\n",
       " 'hubiesen',\n",
       " 'hubieses',\n",
       " 'hubimos',\n",
       " 'hubiste',\n",
       " 'hubisteis',\n",
       " 'hubiéramos',\n",
       " 'hubiésemos',\n",
       " 'hubo',\n",
       " 'la',\n",
       " 'las',\n",
       " 'le',\n",
       " 'les',\n",
       " 'lo',\n",
       " 'los',\n",
       " 'me',\n",
       " 'mi',\n",
       " 'mis',\n",
       " 'mucho',\n",
       " 'muchos',\n",
       " 'muy',\n",
       " 'más',\n",
       " 'mí',\n",
       " 'mía',\n",
       " 'mías',\n",
       " 'mío',\n",
       " 'míos',\n",
       " 'nada',\n",
       " 'ni',\n",
       " 'no',\n",
       " 'nos',\n",
       " 'nosotras',\n",
       " 'nosotros',\n",
       " 'nuestra',\n",
       " 'nuestras',\n",
       " 'nuestro',\n",
       " 'nuestros',\n",
       " 'o',\n",
       " 'os',\n",
       " 'otra',\n",
       " 'otras',\n",
       " 'otro',\n",
       " 'otros',\n",
       " 'para',\n",
       " 'pero',\n",
       " 'poco',\n",
       " 'por',\n",
       " 'porque',\n",
       " 'que',\n",
       " 'quien',\n",
       " 'quienes',\n",
       " 'qué',\n",
       " 'se',\n",
       " 'sea',\n",
       " 'seamos',\n",
       " 'sean',\n",
       " 'seas',\n",
       " 'sentid',\n",
       " 'sentida',\n",
       " 'sentidas',\n",
       " 'sentido',\n",
       " 'sentidos',\n",
       " 'seremos',\n",
       " 'será',\n",
       " 'serán',\n",
       " 'serás',\n",
       " 'seré',\n",
       " 'seréis',\n",
       " 'sería',\n",
       " 'seríais',\n",
       " 'seríamos',\n",
       " 'serían',\n",
       " 'serías',\n",
       " 'seáis',\n",
       " 'siente',\n",
       " 'sin',\n",
       " 'sintiendo',\n",
       " 'sobre',\n",
       " 'sois',\n",
       " 'somos',\n",
       " 'son',\n",
       " 'soy',\n",
       " 'su',\n",
       " 'sus',\n",
       " 'suya',\n",
       " 'suyas',\n",
       " 'suyo',\n",
       " 'suyos',\n",
       " 'sí',\n",
       " 'también',\n",
       " 'tanto',\n",
       " 'te',\n",
       " 'tendremos',\n",
       " 'tendrá',\n",
       " 'tendrán',\n",
       " 'tendrás',\n",
       " 'tendré',\n",
       " 'tendréis',\n",
       " 'tendría',\n",
       " 'tendríais',\n",
       " 'tendríamos',\n",
       " 'tendrían',\n",
       " 'tendrías',\n",
       " 'tened',\n",
       " 'tenemos',\n",
       " 'tenga',\n",
       " 'tengamos',\n",
       " 'tengan',\n",
       " 'tengas',\n",
       " 'tengo',\n",
       " 'tengáis',\n",
       " 'tenida',\n",
       " 'tenidas',\n",
       " 'tenido',\n",
       " 'tenidos',\n",
       " 'teniendo',\n",
       " 'tenéis',\n",
       " 'tenía',\n",
       " 'teníais',\n",
       " 'teníamos',\n",
       " 'tenían',\n",
       " 'tenías',\n",
       " 'ti',\n",
       " 'tiene',\n",
       " 'tienen',\n",
       " 'tienes',\n",
       " 'todo',\n",
       " 'todos',\n",
       " 'tu',\n",
       " 'tus',\n",
       " 'tuve',\n",
       " 'tuviera',\n",
       " 'tuvierais',\n",
       " 'tuvieran',\n",
       " 'tuvieras',\n",
       " 'tuvieron',\n",
       " 'tuviese',\n",
       " 'tuvieseis',\n",
       " 'tuviesen',\n",
       " 'tuvieses',\n",
       " 'tuvimos',\n",
       " 'tuviste',\n",
       " 'tuvisteis',\n",
       " 'tuviéramos',\n",
       " 'tuviésemos',\n",
       " 'tuvo',\n",
       " 'tuya',\n",
       " 'tuyas',\n",
       " 'tuyo',\n",
       " 'tuyos',\n",
       " 'tú',\n",
       " 'un',\n",
       " 'una',\n",
       " 'uno',\n",
       " 'unos',\n",
       " 'vosostras',\n",
       " 'vosostros',\n",
       " 'vuestra',\n",
       " 'vuestras',\n",
       " 'vuestro',\n",
       " 'vuestros',\n",
       " 'y',\n",
       " 'ya',\n",
       " 'yo',\n",
       " 'él',\n",
       " 'éramos'}"
      ]
     },
     "execution_count": 26,
     "metadata": {},
     "output_type": "execute_result"
    }
   ],
   "source": [
    "# List of Spanish stop words\n",
    "\n",
    "spanish_stop_words"
   ]
  },
  {
   "cell_type": "code",
   "execution_count": 27,
   "metadata": {},
   "outputs": [],
   "source": [
    "words = [\"I\", \"didn't\", \"see\", \"any\", \"milk\", \"in\", \"the\", \"fridge\"]"
   ]
  },
  {
   "cell_type": "code",
   "execution_count": 28,
   "metadata": {},
   "outputs": [
    {
     "data": {
      "text/plain": [
       "['I', 'see', 'milk', 'fridge']"
      ]
     },
     "execution_count": 28,
     "metadata": {},
     "output_type": "execute_result"
    }
   ],
   "source": [
    "[word for word in words if word not in stop_words]"
   ]
  },
  {
   "cell_type": "code",
   "execution_count": null,
   "metadata": {},
   "outputs": [],
   "source": []
  }
 ],
 "metadata": {
  "kernelspec": {
   "display_name": "Python 3",
   "language": "python",
   "name": "python3"
  },
  "language_info": {
   "codemirror_mode": {
    "name": "ipython",
    "version": 3
   },
   "file_extension": ".py",
   "mimetype": "text/x-python",
   "name": "python",
   "nbconvert_exporter": "python",
   "pygments_lexer": "ipython3",
   "version": "3.7.0"
  }
 },
 "nbformat": 4,
 "nbformat_minor": 2
}
